{
 "cells": [
  {
   "cell_type": "markdown",
   "metadata": {},
   "source": [
    "# Deutsch's Algorithm\n",
    "\n",
    "1. [Problem Statement](#1.-Problem-Statement)\n",
    "2. [Quantum Solution](#2.-Quantum-Solution)"
   ]
  },
  {
   "cell_type": "markdown",
   "metadata": {},
   "source": [
    "## 1. Problem Statement\n",
    "\n",
    "Deutsch's algorithm is used to solve the **parity problem**: **Parity** $= f(0) \\oplus f(1)$. \n",
    "Here, $\\oplus$ denotes the XOR operator. For example:\n",
    "\n",
    "- $f(0) = f(1)$, **Parity** $= 0$ (even parity, constant function)\n",
    "- $f(0) \\neq f(1)$, **Parity** $= 1$ (odd parity, balanced function)"
   ]
  },
  {
   "cell_type": "markdown",
   "metadata": {},
   "source": [
    "## 2. Quantum Solution\n",
    "<center><img src=\"deutschs_images/Deutsch-solution.png\"></img></center>"
   ]
  },
  {
   "cell_type": "markdown",
   "metadata": {},
   "source": [
    "The circuit starts with:\n",
    "$$\\ket{\\psi_0} = \\ket{01}$$\n",
    "After the Hadamard gate is applied, it transforms $\\ket{0} \\to \\ket{+}$ and $\\ket{1} \\to \\ket{-}$. Therefore, $\\ket{\\psi_0} = \\ket{+-}$.<br> \n",
    "To simplify, rewrite the plus state and distribute the negative state: $$\\ket{\\psi_1}=\\frac{1}{\\sqrt{2}}(\\ket{0} \\ket{-} + \\ket{1}\\ket{-})$$\n",
    "\n",
    "Now, query the oracle $U_f$. \n",
    "$$\n",
    "\\ket{\\psi_1}=\\frac{1}{\\sqrt{2}}U_f(\\ket{0} \\ket{-} + \\ket{1}\\ket{-})\n",
    "\\\\\n",
    "\\ket{\\psi_1}=\\frac{1}{\\sqrt{2}}(U_f\\ket{0} \\ket{-} + U_f\\ket{1}\\ket{-})$$\n",
    "\n",
    "As per definition of phase oracles: $U_f\\ket{x}\\ket{-} = (-1)^{f(x)}=\\ket{x}\\ket{-}$, plug it into the equation:\n",
    "$$ \\ket{\\psi_2}=\\frac{1}{\\sqrt{2}}((-1)^{f(0)}\\ket{0}) + (-1)^{f(1)}\\ket{1})) $$\n",
    "\n",
    "Back to the parity equation:\n",
    "$$ f(0) = f(1): \\pm\\frac{1}{\\sqrt{2}}(\\ket{0}+\\ket{1}) = \\pm \\ket{+} $$\n",
    "\n",
    "$$ f(0) \\neq f(1): \\pm\\frac{1}{\\sqrt{2}}(\\ket{0}-\\ket{1}) = \\pm \\ket{-} $$\n",
    "\n",
    "Applying last Hadamard gate flips the plus state to zero, and minus state to one:\n",
    "$$ f(0) = f(1): \\pm \\ket{0} $$\n",
    "$$ f(0) \\neq f(1): \\pm \\ket{1} $$\n",
    "\n",
    "Finally, we measure the first qubit. This matches the parity problem, where:\n",
    "\n",
    "- If we measure 0, then the function is constant: $f(0) = f(1)$\n",
    "- If we measure 1, then the function is constant: $f(0) \\neq f(1)$"
   ]
  }
 ],
 "metadata": {
  "kernelspec": {
   "display_name": "Python 3 (ipykernel)",
   "language": "python",
   "name": "python3"
  },
  "language_info": {
   "codemirror_mode": {
    "name": "ipython",
    "version": 3
   },
   "file_extension": ".py",
   "mimetype": "text/x-python",
   "name": "python",
   "nbconvert_exporter": "python",
   "pygments_lexer": "ipython3",
   "version": "3.11.9"
  }
 },
 "nbformat": 4,
 "nbformat_minor": 4
}
