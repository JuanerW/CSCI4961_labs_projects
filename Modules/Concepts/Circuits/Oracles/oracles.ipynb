{
 "cells": [
  {
   "cell_type": "markdown",
   "id": "fa99e33c-645f-497b-a617-c0225b8fc548",
   "metadata": {},
   "source": [
    "# Oracles\n",
    "Oracles are simply *boolean* functions. We give an input to the function or oracle or black box, and it returns an output, without us knowing its inner workings. \n",
    "\n",
    "Quantum oracles are black-box functions used in quantum computing to encode specific problems or functions, $f(x)$, into a unitary transformation. These oracles primarily serve to recognize solutions to a problem in a way that allows quantum algorithms to leverage quantum mechanics to efficiently search for the solution.\n",
    "\n",
    "1. [Quantum Oracles](#1.-Quantum-Oracles)\n",
    "2. [Phase Oracles](#2.-Phase-Oracles)\n",
    "\n",
    "IBM Quantum Composer: https://quantum.ibm.com/composer/"
   ]
  },
  {
   "attachments": {},
   "cell_type": "markdown",
   "id": "7840cb08-0ca7-42fc-8af4-01b0273138ca",
   "metadata": {},
   "source": [
    "## 1. Quantum Oracles\n",
    "Quantum oracles play a key role in quantum algorithms, such as Shor's and Grover's algorithms.\n",
    "\n",
    "The gate $U_f$ below is used to illustrate an oracle operation.\n",
    "\n",
    "<img src='oracles_images/diagram.png'></img>\n",
    "\n",
    "The quantum oracle $U_f$ acts as \n",
    "\n",
    "$\\ket{x}\\ket{y} \\xrightarrow{U_f} \\ket{x}\\ket{y \\oplus f(x)}$\n",
    "\n",
    "For now, we will demonstrate a simple example of a quantum oracle. Consider $f(x) = x$."
   ]
  },
  {
   "cell_type": "markdown",
   "id": "14e36203-ebbd-453b-9d07-6efb384244aa",
   "metadata": {},
   "source": [
    "### 1.1 IBM Quantum Composer\n",
    "Let the first qubit be the *input* qubit $x$ and the second qubit be the *answer* or *target* qubit $y$. The result of $f(x)$ is dependent on the *input* qubit, $x$.\n",
    "\n",
    "Setting $y = \\ket{0}$, we can find $f(x)$ for $x = \\ket{0}, \\ket{1}$.\n",
    "\n",
    "$\\underline{x = \\ket{0}, y = \\ket{0}}$ &emsp; $\\left(\\ket{0}\\ket{0 \\oplus 0}\\right)$\n",
    "\n",
    "<img src='oracles_images/oracle.png'></img>\n",
    "\n",
    "$\\underline{x = \\ket{1}, y = \\ket{0}}$ &emsp; $\\left(\\ket{1}\\ket{0 \\oplus 1}\\right)$\n",
    "\n",
    "<img src='oracles_images/oracle1.png'></img>"
   ]
  },
  {
   "cell_type": "markdown",
   "id": "2a9e952c-4b3b-46d3-ba08-9b54d63ba6ac",
   "metadata": {},
   "source": [
    "### 1.2 Qiskit Implementation"
   ]
  },
  {
   "cell_type": "code",
   "execution_count": 1,
   "id": "e84e6b86f97a8961",
   "metadata": {
    "ExecuteTime": {
     "end_time": "2024-11-22T18:26:07.431990Z",
     "start_time": "2024-11-22T18:26:06.767564Z"
    }
   },
   "outputs": [
    {
     "data": {
      "image/png": "[encoded data removed]",
      "text/plain": [
       "<Figure size 370.906x284.278 with 1 Axes>"
      ]
     },
     "execution_count": 1,
     "metadata": {},
     "output_type": "execute_result"
    }
   ],
   "source": [
    "from qiskit import QuantumCircuit\n",
    "\n",
    "# Create a quantum circuit with 2 qubits and 1 classical bits\n",
    "qc = QuantumCircuit(2, 1)\n",
    "\n",
    "# Step 1: Start with |0> state for the first qubit (target qubit |y>)\n",
    "# The qubits are initialized to |0> by default in Qiskit\n",
    "\n",
    "# Step 2: Initialize the second qubit (|x>) to either |0> or |1>\n",
    "qc.x(1)  # Apply X gate to initialize |x> to |1> (remove this line for |x> = |0>)\n",
    "\n",
    "# Step 3: Apply a CNOT gate with the second qubit as control and first qubit as target\n",
    "qc.cx(1, 0)  # CNOT gate: |y> → |y ⊕ x|\n",
    "\n",
    "# Step 4: Measure each qubit\n",
    "qc.measure(0, 0)  # Measure the target qubit (|y ⊕ x|) into the first classical bit\n",
    "\n",
    "# Visualize the circuit\n",
    "qc.draw(output='mpl')"
   ]
  },
  {
   "cell_type": "markdown",
   "id": "5583b996-04f7-4906-8dff-b2c9657f2fb6",
   "metadata": {},
   "source": [
    "## 2. Phase Oracles\n",
    "\n",
    "Previously, $\\ket{y} \\rightarrow \\ket{y \\oplus x}$. Phase oracles, however, allow one to query a quantum oracle without changing the *answer* or *target* qubit, $\\ket{y}$.\n",
    "\n",
    "To do this, we set $\\ket{y} = \\ket{-}$. However, this change causes the *input* qubit, $\\ket{x}$, to change its phase, $\\ket{x} \\xrightarrow{U_f} (-1)^{f(x)}\\ket{x}$."
   ]
  },
  {
   "cell_type": "markdown",
   "id": "44d5f40cf6b9c052",
   "metadata": {},
   "source": [
    "### 2.1 IBM Quantum Composer\n",
    "\n",
    "Let the first qubit be the *input* qubit $x$ and the second qubit be the *answer* or *target* qubit $y$. First, we initialize $\\ket{y} = \\ket{-}$, shown before the barriers below. Then we apply the oracle. This time, we measure the *input* qubit $x$ because the *answer* or *target* qubit $\\ket{y}$ is unchanged.\n",
    "\n",
    "$\\underline{x = \\ket{0}, y = \\ket{-}}$ &emsp; $\\left(\\ket{0}\\ket{- \\oplus 0}\\right)$\n",
    "\n",
    "<img src=\"oracles_images/phase.png\"></img>\n",
    "\n",
    "$\\underline{x = \\ket{1}, y = \\ket{-}}$ &emsp; $\\left(\\ket{1}\\ket{- \\oplus 1}\\right)$\n",
    "\n",
    "<img src=\"oracles_images/phase1.png\"></img>\n",
    "\n",
    "Notice the phase change compared to the previous quantum oracle implementation. This change is important for quantum algorithms."
   ]
  },
  {
   "cell_type": "markdown",
   "id": "41d819af-6558-4c88-92fd-eed373a17ece",
   "metadata": {},
   "source": [
    "### 2.2 Qiskit Implementation"
   ]
  },
  {
   "cell_type": "code",
   "execution_count": 2,
   "id": "542095d0-4500-47ca-a379-087478f53cb5",
   "metadata": {},
   "outputs": [
    {
     "data": {
      "image/png": "[encoded data removed]",
      "text/plain": [
       "<Figure size 621.739x284.278 with 1 Axes>"
      ]
     },
     "execution_count": 2,
     "metadata": {},
     "output_type": "execute_result"
    }
   ],
   "source": [
    "# Create a quantum circuit with 2 qubits and 1 classical bits\n",
    "qc = QuantumCircuit(2, 1)\n",
    "\n",
    "# Step 1: Start with |-> state for the first qubit (target qubit |y>)\n",
    "# The qubits are initialized to |0> by default in Qiskit\n",
    "qc.x(0)\n",
    "qc.h(0)\n",
    "\n",
    "# Add barriers (to match composer construction)\n",
    "qc.barrier(0)\n",
    "qc.id(1)\n",
    "qc.id(1)\n",
    "qc.barrier(1)\n",
    "\n",
    "# Step 2: Initialize the second qubit (|x>) to either |0> or |1>\n",
    "qc.x(1)  # Apply X gate to initialize |x> to |1> (remove this line for |x> = |0>)\n",
    "\n",
    "# Step 3: Apply a CNOT gate with the second qubit as control and first qubit as target\n",
    "qc.cx(1, 0)  # CNOT gate: |y> → |y ⊕ x|\n",
    "\n",
    "# Step 4: Measure each qubit\n",
    "qc.measure(1, 0)  # Measure the input qubit (|x>) into the first classical bit\n",
    "\n",
    "# Visualize the circuit\n",
    "qc.draw(output='mpl')"
   ]
  }
 ],
 "metadata": {
  "kernelspec": {
   "display_name": "Python 3 (ipykernel)",
   "language": "python",
   "name": "python3"
  },
  "language_info": {
   "codemirror_mode": {
    "name": "ipython",
    "version": 3
   },
   "file_extension": ".py",
   "mimetype": "text/x-python",
   "name": "python",
   "nbconvert_exporter": "python",
   "pygments_lexer": "ipython3",
   "version": "3.11.9"
  }
 },
 "nbformat": 4,
 "nbformat_minor": 5
}
