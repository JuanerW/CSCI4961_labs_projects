{
 "cells": [
  {
   "cell_type": "markdown",
   "id": "adfcaaf01bdcdbe1",
   "metadata": {},
   "source": [
    "# Common Quantum Gates"
   ]
  },
  {
   "cell_type": "markdown",
   "id": "d7b3086156e4de59",
   "metadata": {},
   "source": [
    "In this notebook, we’ll introduce some of the most commonly used quantum gates, such as the Identity $I$, Pauli ($X$, $Y$, $Z$), Hadamard $H$, $S$, and $T$ gates. We also show how to use them in IBM Quantum Composer.\n",
    "\n",
    "1. [Identity *I* Gate](#1.-Identity-I-Gate)\n",
    "2. [Pauli *X* Gate](#2.-Pauli-X-Gate)\n",
    "3. [Pauli *Y* Gate](#3.-Pauli-Y-Gate)\n",
    "4. [Pauli *Z* Gate](#4.-Pauli-Z-Gate)\n",
    "5. [Hadamard *H* Gate](#5.-Hadamard-H-Gate)\n",
    "6. [*S* Gate](#6.-S-Gate)\n",
    "7. [*T* Gate](#7.-T-Gate)\n",
    "8. [Summary](#8.-Summary)\n",
    "9. [More Gates](#9.-More-Quantum-Computing-Gate-Notes)\n",
    "\n",
    "IBM Quantum Composer: https://quantum.ibm.com/composer/"
   ]
  },
  {
   "cell_type": "markdown",
   "id": "0573bbcd-9d1f-40cd-b413-9c8d2fcaf627",
   "metadata": {},
   "source": [
    "## 1. Identity *I* Gate\n",
    "\n",
    "### 1.1 Definition and Matrix Representation\n",
    "The Identity $I$ gate, often referred to as a “do-nothing” gate, leaves the qubit unchanged. It turns $\\ket{0}$ into $\\ket{0}$ and $\\ket{1}$ into $\\ket{1}$:\n",
    "$$\n",
    "     I \\ket{0} = \\ket{0}\n",
    "$$\n",
    "$$\n",
    "     I \\ket{1} = \\ket{1}\n",
    "$$\n",
    "\n",
    "The Identity gate is represented by the matrix:\n",
    "\n",
    "$$\n",
    "I =  \\begin{pmatrix} 1 & 0 \\\\ 0 & 1 \\end{pmatrix}\n",
    "$$"
   ]
  },
  {
   "cell_type": "markdown",
   "id": "367543d8517d0d9d",
   "metadata": {},
   "source": [
    "### 1.2 Bloch Sphere Effect\n",
    "Since the Identity gate does not change the qubit state, it does not alter the position on the Bloch sphere.\n",
    "\n",
    "<img src='common_gates_images/i_gate.jpeg'></img>"
   ]
  },
  {
   "cell_type": "markdown",
   "id": "3f818fc9-5adf-4f7a-87fd-c1f930294a29",
   "metadata": {},
   "source": [
    "### 1.3 IBM Quantum Composer\n",
    "Using IBM Quantum Composer, we apply the Identity gate on:\n",
    "\n",
    "$\\underline{\\ket{0}}$\n",
    "\n",
    "<img src=\"common_gates_images/i_zero.png\"></img>\n",
    "\n",
    "$\\underline{\\ket{1}}$\n",
    "\n",
    "<img src=\"common_gates_images/i_one.png\"></img>"
   ]
  },
  {
   "cell_type": "markdown",
   "id": "6d239908b7839c2d",
   "metadata": {},
   "source": [
    "## 2. Pauli *X* Gate\n",
    "\n",
    "### 2.1 Definition and Matrix Representation\n",
    "The $X$ gate, also known as the $NOT$ gate, flips the state of the qubit. It turns $\\ket{0}$ into $\\ket{1}$ and $\\ket{1}$ into $\\ket{0}$:\n",
    "$$\n",
    "     X \\ket{0} = \\ket{1}\n",
    "$$\n",
    "$$\n",
    "     X \\ket{1} = \\ket{0} \n",
    "$$\n",
    "\n",
    "The Pauli $X$ gate is represented by the matrix:\n",
    "\n",
    "$$\n",
    "X = \\begin{pmatrix} 0 & 1 \\\\ 1 & 0 \\end{pmatrix}\n",
    "$$"
   ]
  },
  {
   "cell_type": "markdown",
   "id": "2b78a7086bc5b6d0",
   "metadata": {},
   "source": [
    "### 2.2 Bloch Sphere Effect\n",
    "The $X$ gate performs a rotation about the $x$-axis by 180$^\\circ$ or $\\pi$ radians on the Bloch sphere. Visually, this is represented by a flip along the $x$-axis.\n",
    "\n",
    "<img src='common_gates_images/x_gate.jpeg'></img>"
   ]
  },
  {
   "cell_type": "markdown",
   "id": "b831795a922a87b4",
   "metadata": {},
   "source": [
    "### 2.3 IBM Quantum Composer\n",
    "Using IBM Quantum Composer, we apply the $X$ gate on:\n",
    "\n",
    "$\\underline{\\ket{0}}$\n",
    "\n",
    "<img src=\"common_gates_images/x_zero.png\"></img>\n",
    "\n",
    "$\\underline{\\ket{1}}$\n",
    "\n",
    "<img src=\"common_gates_images/x_one.png\"></img>"
   ]
  },
  {
   "cell_type": "markdown",
   "id": "d4205f5fa4326ce3",
   "metadata": {},
   "source": [
    "## 3. Pauli *Y* Gate\n",
    "\n",
    "### 3.1 Definition and Matrix Representation\n",
    "The $Y$ gate turns $\\ket{0}$ into $i\\ket{1}$ and $\\ket{1}$ into $-i\\ket{0}$:\n",
    "$$\n",
    "     Y \\ket{0} = i\\ket{i}\n",
    "$$\n",
    "$$\n",
    "     Y \\ket{1} = -i\\ket{0}\n",
    "$$\n",
    "\n",
    "The Pauli $Y$ gate is represented by the matrix:\n",
    "\n",
    "$$\n",
    "Y = \\begin{pmatrix} 0 & -i \\\\ i & 0 \\end{pmatrix}\n",
    "$$"
   ]
  },
  {
   "cell_type": "markdown",
   "id": "8db28c9b43b5bc9e",
   "metadata": {},
   "source": [
    "### 3.2 Bloch Sphere Effect\n",
    "The $Y$ gate performs a rotation about the $y$-axis by 180$^\\circ$ or $\\pi$ radians on the Bloch sphere.\n",
    "\n",
    "<img src='common_gates_images/y_gate.jpeg'></img>"
   ]
  },
  {
   "cell_type": "markdown",
   "id": "24639b94e4faa3b",
   "metadata": {},
   "source": [
    "### 3.3 IBM Quantum Composer\n",
    "Using IBM Quantum Composer, we apply the $Y$ gate on:\n",
    "\n",
    "$\\underline{\\ket{0}}$\n",
    "\n",
    "<img src=\"common_gates_images/y_zero.png\"></img>\n",
    "\n",
    "$\\underline{\\ket{1}}$\n",
    "\n",
    "<img src=\"common_gates_images/y_one.png\"></img>"
   ]
  },
  {
   "cell_type": "markdown",
   "id": "b2cad4b175a55a96",
   "metadata": {},
   "source": [
    "## 4. Pauli *Z* Gate\n",
    "\n",
    "### 4.1 Definition and Matrix Representation\n",
    "The $Z$ gate, also known as the \"phase-flip\" gate, turns $\\ket{0}$ into $\\ket{0}$ and $\\ket{1}$ into $-\\ket{1}$:\n",
    "$$\n",
    "  Z \\ket{0} = \\ket{0}\n",
    "$$\n",
    "$$\n",
    "  Z \\ket{1} = -\\ket{1}\n",
    "$$\n",
    "\n",
    "The Pauli $Z$ gate is represented by the matrix:\n",
    "\n",
    "$$\n",
    "Z = \\begin{pmatrix} 1 & 0 \\\\ 0 & -1 \\end{pmatrix}\n",
    "$$"
   ]
  },
  {
   "cell_type": "markdown",
   "id": "174eef2fc3a4de67",
   "metadata": {},
   "source": [
    "### 4.2 Bloch Sphere Effect\n",
    "The Z gate performs a rotation about the $z$-axis by 180$^\\circ$ or $\\pi$ radians on the Bloch sphere.\n",
    "\n",
    "<img src='common_gates_images/z_gate.jpeg'></img>"
   ]
  },
  {
   "cell_type": "markdown",
   "id": "acf6ee5f7766e6e4",
   "metadata": {},
   "source": [
    "### 4.3 IBM Quantum Composer\n",
    "Using IBM Quantum Composer, we apply the $Z$ gate on:\n",
    "\n",
    "$\\underline{\\ket{0}}$\n",
    "\n",
    "<img src=\"common_gates_images/z_zero.png\"></img>\n",
    "\n",
    "$\\underline{\\ket{1}}$\n",
    "\n",
    "<img src=\"common_gates_images/z_one.png\"></img>"
   ]
  },
  {
   "cell_type": "markdown",
   "id": "ab0b87e70682e5c4",
   "metadata": {},
   "source": [
    "## 5. Hadamard *H* Gate\n",
    "\n",
    "### 5.1 Definition and Matrix Representation\n",
    "The Hadamard $H$ gate turns $\\ket{0}$ into $\\ket{+}$ and $\\ket{1}$ into $\\ket{-}$:\n",
    "\n",
    "$$\n",
    "H\\ket{0} = \\frac{1}{\\sqrt{2}} (\\ket{0} + \\ket{1}) = \\ket{+}\n",
    "$$\n",
    "\n",
    "$$\n",
    "H\\ket{1} = \\frac{1}{\\sqrt{2}} (\\ket{0} - \\ket{1}) = \\ket{-}\n",
    "$$\n",
    "\n",
    "The Hadamard gate is represented by the matrix:\n",
    "\n",
    "$$\n",
    "H = \\frac{1}{\\sqrt{2}} \\begin{pmatrix} 1 & 1 \\\\ 1 & -1 \\end{pmatrix}\n",
    "$$"
   ]
  },
  {
   "cell_type": "markdown",
   "id": "a2d17fae53da4393",
   "metadata": {},
   "source": [
    "### 5.2 Bloch Sphere Effect\n",
    "The H gate performs a rotation about the $x+z$-axis by 180$^\\circ$ or $\\pi$ radians on the Bloch sphere.\n",
    "\n",
    "<img src=\"common_gates_images/h_gate.jpeg\"></img>"
   ]
  },
  {
   "cell_type": "markdown",
   "id": "da7b92985a93449d",
   "metadata": {},
   "source": [
    "### 5.3 IBM Quantum Composer\n",
    "Using IBM Quantum Composer, we apply the Hadamard gate on:\n",
    "\n",
    "$\\underline{\\ket{0}}$\n",
    "\n",
    "<img src=\"common_gates_images/h_zero.png\"></img>\n",
    "\n",
    "$\\underline{\\ket{1}}$\n",
    "\n",
    "<img src=\"common_gates_images/h_one.png\"></img>"
   ]
  },
  {
   "cell_type": "markdown",
   "id": "76dadaab0e96586b",
   "metadata": {},
   "source": [
    "## 6. *S* Gate\n",
    "\n",
    "### 6.1 Definition and Matrix Representation\n",
    "The $S$ gate, also known as the Phase gate, is the square root of the $Z$ gate (i.e. $S^2 = Z$):\n",
    "\n",
    "$$\n",
    "   S \\ket{0} = \\ket{0}\n",
    "$$\n",
    "$$\n",
    "   S \\ket{1} = i\\ket{1}\n",
    "$$\n",
    "\n",
    "The S gate is represented by the matrix:\n",
    "\n",
    "$$\n",
    "S =  \\begin{pmatrix} 1 & 0 \\\\ 0 & i \\end{pmatrix}\n",
    "$$"
   ]
  },
  {
   "cell_type": "markdown",
   "id": "4ae6998376dd4e57",
   "metadata": {},
   "source": [
    "### 6.2 Bloch Sphere Effect\n",
    "The S gate performs a rotation about the $z$-axis by 90$^\\circ$ or $\\frac{\\pi}{2}$ on the Bloch sphere.\n",
    "\n",
    "<img src=\"common_gates_images/s_gate.jpeg\"></img>"
   ]
  },
  {
   "cell_type": "markdown",
   "id": "356b0e7097599283",
   "metadata": {},
   "source": [
    "### 6.3 IBM Quantum Composer\n",
    "Using IBM Quantum Composer, we apply the $S$ gate on:\n",
    "\n",
    "$\\underline{\\ket{0}}$\n",
    "\n",
    "<img src=\"common_gates_images/s_zero.png\"></img>\n",
    "\n",
    "$\\underline{\\ket{1}}$\n",
    "\n",
    "<img src=\"common_gates_images/s_one.png\"></img>"
   ]
  },
  {
   "cell_type": "markdown",
   "id": "3e6816740c69c09f",
   "metadata": {},
   "source": [
    "## 7. *T* Gate\n",
    "\n",
    "### 7.1 Definition and Matrix Representation\n",
    "The $T$ gate, also called the $\\frac{\\pi}{8}$ gate, is the square root of the $S$ gate (i.e. $T^2 = S$) or fourth root of the $Z$ gate. It turns $\\ket{0}$ into $\\ket{0}$ and $\\ket{1}$ into $e^{\\frac{i\\pi}{4}}\\ket{1}$:\n",
    "$$\n",
    " T \\ket{0} = \\ket{0} \n",
    "$$\n",
    "$$\n",
    " T \\ket{1} = e^{\\frac{i\\pi}{4}}\\ket{1}\n",
    "$$\n",
    "\n",
    "The T gate is represented by the matrix:\n",
    "\n",
    "$$\n",
    "T =  \\begin{pmatrix} 1 & 0 \\\\ 0 & e^{\\frac{i\\pi}{4}} \\end{pmatrix} = \\begin{pmatrix} 1 & 0 \\\\ 0 & \\frac{i+1}{\\sqrt{2}} \\end{pmatrix}\n",
    "$$"
   ]
  },
  {
   "cell_type": "markdown",
   "id": "2d02e164c357ad42",
   "metadata": {},
   "source": [
    "### 7.2 Bloch Sphere Effect\n",
    "The T gate performs a rotation about the $z$-axis by 45$^\\circ$ or $\\frac{\\pi}{4}$ on the Bloch sphere.\n",
    "\n",
    "<img src='common_gates_images/t_gate.jpeg'></img>"
   ]
  },
  {
   "cell_type": "markdown",
   "id": "143f078ce2c0c2a1",
   "metadata": {},
   "source": [
    "### 7.3 IBM Quantum Composer\n",
    "Using IBM Quantum Composer, we apply the $T$ gate on:\n",
    "\n",
    "$\\underline{\\ket{0}}$\n",
    "\n",
    "<img src=\"common_gates_images/t_zero.png\"></img>\n",
    "\n",
    "$\\underline{\\ket{1}}$\n",
    "\n",
    "<img src=\"common_gates_images/t_one.png\"></img>"
   ]
  },
  {
   "cell_type": "markdown",
   "id": "bfcbc6119df44b68",
   "metadata": {},
   "source": [
    "## 8. Summary\n",
    "<img src=\"common_gates_images/quick_summary.jpeg\"></img>"
   ]
  },
  {
   "cell_type": "markdown",
   "id": "129a70d29b1fb2e0",
   "metadata": {},
   "source": [
    "## 9. More Quantum Computing Gate Notes\n",
    "<img src=\"common_gates_images/Quantum_Logic_Gates.png\"></img>"
   ]
  }
 ],
 "metadata": {
  "kernelspec": {
   "display_name": "Python 3 (ipykernel)",
   "language": "python",
   "name": "python3"
  },
  "language_info": {
   "codemirror_mode": {
    "name": "ipython",
    "version": 3
   },
   "file_extension": ".py",
   "mimetype": "text/x-python",
   "name": "python",
   "nbconvert_exporter": "python",
   "pygments_lexer": "ipython3",
   "version": "3.11.9"
  }
 },
 "nbformat": 4,
 "nbformat_minor": 5
}
