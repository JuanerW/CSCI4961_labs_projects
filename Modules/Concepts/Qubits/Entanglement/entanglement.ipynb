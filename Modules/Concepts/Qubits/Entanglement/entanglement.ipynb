{
 "cells": [
  {
   "cell_type": "markdown",
   "metadata": {},
   "source": [
    "# Entanglement\n",
    "\n",
    "When two qubits are entangled, measuring one qubit collapses its state and simultaneously determines the state of the other, regardless of distance. Before measurement, the qubits exist in a shared superposition, with their outcomes correlated. Once measured, the states of the entangled qubits are fixed, and repeated measurements yield consistent results.\n",
    "In this demonstration, we will explore entanglement using IBM Quantum Composer and Qiskit.\n",
    "\n",
    "1. [IBM Quantum Composer](#1.-IBM-Quantum-Composer)  \n",
    "2. [Qiskit Implementation](#2.-Qiskit-Implementation) \n",
    "3. [Measuring Entangled States](#3.-Measuring-Entangled-States)\n",
    "\n",
    "IBM Quantum Composer: https://quantum.ibm.com/composer/"
   ]
  },
  {
   "cell_type": "markdown",
   "metadata": {},
   "source": [
    "## 1. IBM Quantum Composer\n",
    "\n",
    "### 1.1 Start with $\\ket{00}$ state\n",
    "\n",
    "The initial state $\\ket{00}$ represents two qubits both in the $\\ket{0}$ state, with no entanglement.\n",
    "\n",
    "<img src=\"entanglement_images/initial.png\">\n",
    "\n",
    "<img src=\"entanglement_images/initial_prob.png\">"
   ]
  },
  {
   "cell_type": "markdown",
   "metadata": {},
   "source": [
    "### 1.2 Use Hadamard Gate on the first qubit\n",
    "\n",
    "The Hadamard gate changes the first qubit from the $\\ket{0}$ state into a superposition state: \n",
    "$H\\ket{0} = \\frac{\\ket{0} + \\ket{1}}{\\sqrt{2}}$.\n",
    "\n",
    "This results in the overall quantum state of the system: $H\\ket{0}\\ket{0} = \\frac{\\ket{00} + \\ket{10}}{\\sqrt{2}}$.\n",
    "\n",
    "\n",
    "At this stage, the qubits are not yet entangled, but the first qubit's superposition begins establishing a correlation between the two qubits.\n",
    "\n",
    "<img src=\"entanglement_images/hadamard.png\">\n",
    "\n",
    "<img src=\"entanglement_images/hadamard_prob.png\">"
   ]
  },
  {
   "cell_type": "markdown",
   "metadata": {},
   "source": [
    "### 1.3 Apply CNOT gate, with first qubit as control and second qubit as target.\n",
    "\n",
    "The CNOT gate entangles the qubits by flipping the state of the second qubit if the first qubit is in $\\ket{1}$. This operation transforms the state into a well-known entangled state, the Bell state $\\ket{\\Phi^+}$: $\\frac{\\ket{00} + \\ket{11}}{\\sqrt{2}}$.\n",
    "\n",
    "At this point, the qubits are fully entangled, meaning their states are interdependent.\n",
    "\n",
    "<img src=\"entanglement_images/bell_state.png\">\n",
    "\n",
    "<img src=\"entanglement_images/bell_state_prob.png\">"
   ]
  },
  {
   "cell_type": "markdown",
   "metadata": {},
   "source": [
    "### 1.4 Measure both qubits.\n",
    "\n",
    "When measured, the entangled state collapses to either $\\ket{0}$ or $\\ket{1}$, each with 50% probability.\n",
    "\n",
    "The measurement of the first qubit directly determines the measurement of the second qubit due to the entanglement.\n",
    "\n",
    "<img src=\"entanglement_images/measurement.png\">"
   ]
  },
  {
   "cell_type": "markdown",
   "metadata": {},
   "source": [
    "### 1.5 Set up and run the circuit.\n",
    "<img src=\"entanglement_images/bell_measurement.png\">"
   ]
  },
  {
   "cell_type": "markdown",
   "metadata": {},
   "source": [
    "## 2. Qiskit Implementation\n",
    "\n",
    "### Imports:"
   ]
  },
  {
   "cell_type": "code",
   "execution_count": null,
   "metadata": {},
   "outputs": [],
   "source": [
    "%pip install qiskit\n",
    "%pip install qiskit-aer"
   ]
  },
  {
   "cell_type": "code",
   "execution_count": 1,
   "metadata": {},
   "outputs": [
    {
     "data": {
      "image/png": "[encoded data removed]",
      "text/plain": [
       "<Figure size 454.517x284.278 with 1 Axes>"
      ]
     },
     "execution_count": 1,
     "metadata": {},
     "output_type": "execute_result"
    }
   ],
   "source": [
    "from qiskit import QuantumCircuit\n",
    "# Initialize 2 qubit circuit\n",
    "qc = QuantumCircuit(2,2)\n",
    "# Apply Hadamard on first qubit\n",
    "qc.h(1)\n",
    "\n",
    "#Apply CNOT gate (control: qubit 0, target: qubit 1)\n",
    "qc.cx(1, 0)\n",
    "\n",
    "# Measure both qubits\n",
    "qc.measure(0, 0)  \n",
    "qc.measure(1, 1) \n",
    "\n",
    "qc.draw(output=\"mpl\")"
   ]
  },
  {
   "cell_type": "code",
   "execution_count": 2,
   "metadata": {},
   "outputs": [
    {
     "name": "stdout",
     "output_type": "stream",
     "text": [
      "Measurement results: {'00': 499, '11': 501}\n"
     ]
    }
   ],
   "source": [
    "from qiskit_aer import AerSimulator\n",
    "simulator = AerSimulator()\n",
    "job = simulator.run(qc, shots=1000) # How many copies of the circuit are executed\n",
    "\n",
    "# Get the result and count the occurrences of each outcome\n",
    "result = job.result()\n",
    "counts = result.get_counts(qc)\n",
    "\n",
    "print(\"Measurement results:\", counts)"
   ]
  },
  {
   "cell_type": "markdown",
   "metadata": {},
   "source": [
    "## 3. Measuring Entangled States\n",
    "\n",
    "The tensor product describes how the quantum states of two qubits combine into a joint state. The resulting state spans the combined Hilbert space of the two qubits. \n",
    "\n",
    "The formula for general tensor product of two qubits is:\n",
    "\n",
    "$$\n",
    "\\ket{\\psi_1} \\ket{\\psi_0} = (\\alpha_1\\ket{0} + \\beta_1\\ket{1})(\\alpha_0\\ket{0} + \\beta_0\\ket{1})\n",
    "$$\n",
    "\n",
    "If the resulting state cannot be factored into this form, it is an entangled state. \n",
    "\n",
    "### 3.1 Maximally Entangled States\n",
    "\n",
    "Maximally entangled states means there are maximal amount of entanglement. Measuring one qubit will determine the measurment of the other qubit.\n",
    "With two qubits, there are four maximally entangled states, called the Bell States. \n",
    "\n",
    "$\\ket{\\Phi^+} = \\frac{1}{\\sqrt{2}}(\\ket{00} + \\ket{11}),$\n",
    "\n",
    "$\\ket{\\Phi^-} = \\frac{1}{\\sqrt{2}}(\\ket{00} - \\ket{11}),$\n",
    "\n",
    "$\\ket{\\Psi^+} = \\frac{1}{\\sqrt{2}}(\\ket{01} + \\ket{10}),$\n",
    "\n",
    "$\\ket{\\Psi^-} = \\frac{1}{\\sqrt{2}}(\\ket{01} - \\ket{10}).$\n",
    "\n",
    "\n",
    "#### Step-by-Step Calculations:\n",
    "\n",
    "$\\ket{\\Phi^+} = \\frac{1}{\\sqrt{2}}(\\ket{00} + \\ket{11})$\n",
    "cannot be written as $\\ket{\\psi_1} \\ket{\\psi_0}$. \n",
    "\n",
    "$$\n",
    "\\ket{\\psi_1} \\ket{\\psi_0} = (\\alpha_1\\ket{0} + \\beta_1\\ket{1})(\\alpha_0\\ket{0} + \\beta_0\\ket{1})\n",
    "$$\n",
    "\n",
    "$$\n",
    "= \\alpha_1 \\alpha_0 \\ket{00} + \\alpha_1 \\beta_0 \\ket{01} + \\beta_1 \\alpha_0 \\ket{10} + \\beta_1 \\beta_0 \\ket{11}.\n",
    "$$\n",
    "\n",
    "Coefficients:\n",
    "\n",
    "$(\\alpha_1 + \\alpha_0) = \\frac{1}{\\sqrt{2}}$\n",
    "\n",
    "$(\\alpha_1 + \\beta_0) = 0$\n",
    "\n",
    "$(\\beta_1 + \\alpha_0) = 0$\n",
    "\n",
    "$(\\beta_1 + \\beta_0) = \\frac{1}{\\sqrt{2}}$\n",
    "\n",
    "There are no solutions to these four equations, therefore it is an entangled state.\n",
    "\n",
    "\n",
    "### 3.2 Partially Entangled States\n",
    "Partially entangled states cannot be factored into a tensor product of a single qubit. \n",
    "\n",
    "#### Example:\n",
    "\n",
    "$\\frac{\\sqrt{3}}{2\\sqrt{2}}\\ket{00} + \\frac{\\sqrt{3}}{2\\sqrt{2}}\\ket{01} + \\frac{\\sqrt{3}}{4}\\ket{10} + \\frac{1}{4}\\ket{11}.$\n",
    "\n",
    "If we measure only the left qubit:\n",
    "\n",
    "The outcome is 0 with probability $3/4$, collapsing the state to $\\ket{0} \\left(\\frac{1}{\\sqrt{2}}(\\ket{0} + \\ket{1}\\right)$.\n",
    "\n",
    "The outcome is 1 with probability $1/4$, collapsing the state to $\\ket{1} \\left(\\frac{\\sqrt{3}}{2}\\ket{0} + \\frac{1}{2}\\ket{1}\\right)$.\n"
   ]
  }
 ],
 "metadata": {
  "kernelspec": {
   "display_name": "Python 3 (ipykernel)",
   "language": "python",
   "name": "python3"
  },
  "language_info": {
   "codemirror_mode": {
    "name": "ipython",
    "version": 3
   },
   "file_extension": ".py",
   "mimetype": "text/x-python",
   "name": "python",
   "nbconvert_exporter": "python",
   "pygments_lexer": "ipython3",
   "version": "3.11.9"
  }
 },
 "nbformat": 4,
 "nbformat_minor": 4
}
