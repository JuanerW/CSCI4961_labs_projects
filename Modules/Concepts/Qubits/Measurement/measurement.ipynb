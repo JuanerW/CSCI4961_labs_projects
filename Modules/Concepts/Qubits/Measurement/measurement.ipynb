{
 "cells": [
  {
   "cell_type": "markdown",
   "metadata": {},
   "source": [
    "# Measurement\n",
    "A qubit exists in a superposition of $\\ket{0}$ and $\\ket{1}$. However, upon measurement, we get a single, definite value. As a result, the measurement will yield either $\\ket{0}$ or $\\ket{1}$, each with a specific probability, rather than a superposition of $\\ket{0}$ *and* $\\ket{1}$.\n",
    "\n",
    "In this demonstration, we will explore qubit measurement using IBM Quantum Composer and Qiskit.\n",
    "\n",
    "1. [Calculating Measurement](#1.-Calculating-Measurement)\n",
    "2. [IBM Quantum Composer](#2.-IBM-Quantum-Composer)  \n",
    "3. [Qiskit Implementation](#3.-Qiskit-Implementation)  \n",
    "4. [Example](#4.-Example)\n",
    "\n",
    "IBM Quantum Composer: https://quantum.ibm.com/composer/"
   ]
  },
  {
   "cell_type": "markdown",
   "metadata": {},
   "source": [
    "## 1. Calculating Measurement\n",
    "Consider the application of the Hadamard gate to the state $\\ket{0}$. The resulting superposition is $\\frac{1}{\\sqrt{2}}\\left(\\ket{0} + \\ket{1}\\right) = \\frac{1}{\\sqrt{2}}\\ket{0} + \\frac{1}{\\sqrt{2}}\\ket{1}$.\n",
    "\n",
    "To get the exact probabilities of $\\ket{0}$ and $\\ket{1}$, we calculate the norm-square of each amplitude.\n",
    "\n",
    "Probability of $\\ket{0}$: $(\\frac{1}{\\sqrt{2}})^2 = \\frac{1}{2}$\n",
    "\n",
    "Probability of $\\ket{1}$: $(\\frac{1}{\\sqrt{2}})^2 = \\frac{1}{2}$\n",
    "\n",
    "We can verify this by confirming that the sum of both probabilities is equal to $1$."
   ]
  },
  {
   "cell_type": "markdown",
   "metadata": {},
   "source": [
    "## 2. IBM Quantum Composer\n",
    "\n",
    "### 2.1 Start with the $\\ket{0}$\n",
    "Add a classical bit for every qubit you want to measure. In this case, we only add one.\n",
    "#### (Note that initially the qubit already begins in the $\\ket{0}$ state. We only apply this reset operation for visualization purposes)\n",
    "<img src=\"measurement_images/start_state.png\">\n",
    "<img src=\"measurement_images/start_probability.png\">"
   ]
  },
  {
   "cell_type": "markdown",
   "metadata": {},
   "source": [
    "### 2.2 Use Hadamard Gate to generate $\\frac{1}{\\sqrt{2}}\\left(\\ket{0} + \\ket{1}\\right)$\n",
    "<img src=\"measurement_images/hadamard.png\">\n",
    "<img src=\"measurement_images/hadamard_gate.png\">"
   ]
  },
  {
   "cell_type": "markdown",
   "metadata": {},
   "source": [
    "### 2.3 Apply Measurement \n",
    "<img src=\"measurement_images/measured_state.png\">"
   ]
  },
  {
   "cell_type": "markdown",
   "metadata": {},
   "source": [
    "### 2.4 Result\n",
    "Now, we can set up and run the circuit on real quantum hardware. If you are not logged in, log in. Set up and run the circuit using the blue button in the top right. Choose the quantum computer you want to run on and keep the default number of shots. Run the circuit.\n",
    "\n",
    "<img src=\"measurement_images/result.png\">"
   ]
  },
  {
   "cell_type": "markdown",
   "metadata": {},
   "source": [
    "## 3. Qiskit Implementation\n",
    "### Imports"
   ]
  },
  {
   "cell_type": "code",
   "execution_count": null,
   "metadata": {},
   "outputs": [],
   "source": [
    "%pip install qiskit\n",
    "%pip install qiskit-aer"
   ]
  },
  {
   "cell_type": "markdown",
   "metadata": {},
   "source": [
    "### 3.1 Constructing our Circuit"
   ]
  },
  {
   "cell_type": "code",
   "execution_count": 1,
   "metadata": {},
   "outputs": [
    {
     "data": {
      "image/png": "[encoded data removed]",
      "text/plain": [
       "<Figure size 269.064x200.667 with 1 Axes>"
      ]
     },
     "execution_count": 1,
     "metadata": {},
     "output_type": "execute_result"
    }
   ],
   "source": [
    "from qiskit import QuantumCircuit\n",
    "\n",
    "qc = QuantumCircuit(1, 1)\n",
    "qc.h(0)\n",
    "measurement = qc.measure(0, 0)\n",
    "qc.draw(output=\"mpl\")"
   ]
  },
  {
   "cell_type": "markdown",
   "metadata": {},
   "source": [
    "### 3.2 Measurement\n",
    "To measure this circuit, Qiskit provides simulators to execute the circuits and obtain measurements. We can also call the backend of real quantum hardware such as <b>ibm_rensselaer</b> to execute our circuit. The number of shots specify how many copies of the circuit are created and run. This gives us a probability distribution over the possible states, $\\ket{0}$ and $\\ket{1}$."
   ]
  },
  {
   "cell_type": "code",
   "execution_count": 2,
   "metadata": {},
   "outputs": [
    {
     "name": "stdout",
     "output_type": "stream",
     "text": [
      "Measurement results: {'1': 503, '0': 497}\n"
     ]
    }
   ],
   "source": [
    "from qiskit_aer import AerSimulator\n",
    "\n",
    "simulator = AerSimulator()\n",
    "job = simulator.run(qc, shots=1000) # How many copies of the circuit are executed\n",
    "\n",
    "# Get the result and count the occurrences of each outcome\n",
    "result = job.result()\n",
    "counts = result.get_counts(qc)\n",
    "\n",
    "print(\"Measurement results:\", counts)"
   ]
  },
  {
   "cell_type": "markdown",
   "metadata": {},
   "source": [
    "The results match our calculated measurements."
   ]
  },
  {
   "cell_type": "markdown",
   "metadata": {},
   "source": [
    "## 4. Example\n",
    "We demonstrate a more complex example. Consider:\n",
    "\n",
    "$$\n",
    "\\ket{\\psi} = \\frac{2}{3}\\ket{0} + \\frac{1 + 2i}{3}\\ket{1}\n",
    "$$\n",
    "\n",
    "If you measure the qubit, what is the probability of getting:\n",
    "\n",
    "1. $\\ket{0}$\n",
    "\n",
    "2. $\\ket{1}$"
   ]
  },
  {
   "cell_type": "markdown",
   "metadata": {},
   "source": [
    "### 4.1 Calculating Measurement\n",
    "Probability of $\\ket{0}$: $(\\frac{2}{3})^2 = \\frac{4}{9}$\n",
    "\n",
    "Probability of $\\ket{1}$: $(\\frac{1+2i}{3})^2 = (\\frac{1+2i}{3})(\\frac{1-2i}{3}) = \\frac{1+4}{9} = \\frac{5}{9}$\n",
    "\n",
    "Verification: $\\frac{4}{9} + \\frac{5}{9} = 1$"
   ]
  },
  {
   "cell_type": "markdown",
   "metadata": {},
   "source": [
    "### 4.2 IBM Quantum Composer\n",
    "To construct $\\ket{\\psi}$ as a circuit, begin in $\\ket{0}$. Then apply a $Ry$ gate with $\\theta = \\arccos(1.68213734)$ and a $Rz$ gate with $\\phi = \\arctan(1.1071)$. We will not dive into the calculation. Finally, measure the qubit.\n",
    "\n",
    "<img src=\"measurement_images/example.png\">"
   ]
  },
  {
   "cell_type": "markdown",
   "metadata": {},
   "source": [
    "Set up and run the circuit with default number of shots. Verify the results.\n",
    "\n",
    "<img src=\"measurement_images/example_results.png\">"
   ]
  }
 ],
 "metadata": {
  "kernelspec": {
   "display_name": "Python 3 (ipykernel)",
   "language": "python",
   "name": "python3"
  },
  "language_info": {
   "codemirror_mode": {
    "name": "ipython",
    "version": 3
   },
   "file_extension": ".py",
   "mimetype": "text/x-python",
   "name": "python",
   "nbconvert_exporter": "python",
   "pygments_lexer": "ipython3",
   "version": "3.11.9"
  }
 },
 "nbformat": 4,
 "nbformat_minor": 4
}
