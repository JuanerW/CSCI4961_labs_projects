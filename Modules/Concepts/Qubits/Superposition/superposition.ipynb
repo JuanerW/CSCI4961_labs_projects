{
 "cells": [
  {
   "cell_type": "markdown",
   "id": "78c948d8-5310-49d6-acaf-d5eb65ebb49f",
   "metadata": {},
   "source": [
    "# Superposition\n",
    "Classically, a bit can either be $0$ or $1$, never both simultaneously. Quantum bits (qubits), exist in a state of superposition, meaning they can represent both $0$ and $1$ simultaneously. This is described mathematically as:\n",
    "\n",
    "$$\n",
    "\\ket{\\psi} = \\alpha\\ket{0} + \\beta\\ket{1}\n",
    "$$\n",
    "\n",
    "where $\\alpha$ and $\\beta$ are complex coefficients.\n",
    "\n",
    "1. [IBM Quantum Composer](#1.-IBM-Quantum-Composer)\n",
    "2. [Qiskit Implementation](#2.-Qiskit-Implementation)\n",
    "\n",
    "IBM Quantum Composer: https://quantum.ibm.com/composer/"
   ]
  },
  {
   "attachments": {},
   "cell_type": "markdown",
   "id": "a2706c2f-d94c-4386-af89-1a95f3e2a924",
   "metadata": {},
   "source": [
    "## 1. IBM Quantum Composer\n",
    "IBM Quantum Composer allows one to build, visualize, and run quantum circuits on quantum hardware.\n",
    "\n",
    "- Classical bits are represented as c$n$, where $n$ is the number of bits.\n",
    "- Qubits are labeled $q[0], q[1], \\ldots, q[n]$ from top to bottom, representing the initial state $\\ket{q[n]q[n-1] \\cdots q[0]}$ in Dirac notation.\n",
    "  - Example: $q[0] = 1$, $q[1] = 1$, $q[2] = 0 \\rightarrow \\ket{011}$ \n",
    "- Gate operations are placed left to right on the qubits, applying operations in order.\n",
    "- The probability distribution and Q-sphere diagram represent the possible states of the qubit when measured.\n",
    "\n",
    "New circuits start in the $\\ket{0000}$ state with 4 classical bits, as shown below. You have the ability to add or delete qubits and classical bits by clicking on the labels.\n",
    "\n",
    "<img src=\"superposition_images/initial.png\"></img>"
   ]
  },
  {
   "cell_type": "markdown",
   "id": "1cbe284f-8b9c-4a33-8dd9-6aa383538772",
   "metadata": {},
   "source": [
    "### 1.1 One Qubit\n",
    "First, begin with the $\\ket{0}$ state. Then, apply a $H$ gate on the first qubit.\n",
    "\n",
    "<img src=\"superposition_images/h1.png\"></img>\n",
    "\n",
    "Notice how applying the $H$ gate creates a superposition where measuring the state results in $\\frac{1}{2}$ probability of being $0$ and $\\frac{1}{2}$ probability of being $1$, using only one qubit."
   ]
  },
  {
   "cell_type": "markdown",
   "id": "49db4144-b1f0-4afe-b11b-f70772ac4f5e",
   "metadata": {},
   "source": [
    "### 1.2 Two Qubits\n",
    "Going further, add a second qubit and apply another $H$ gate to the second qubit.\n",
    "\n",
    "<img src=\"superposition_images/h2.png\"></img>\n",
    "\n",
    "With two qubits, there are $4$ possible states that can be measured with equal probability ($\\frac{1}{4}$ each)."
   ]
  },
  {
   "cell_type": "markdown",
   "id": "b9f9fa99-96de-473a-9ff5-6dac53c09579",
   "metadata": {},
   "source": [
    "## 2. Qiskit Implementation\n",
    "Make sure Qiskit is installed on your machine. Run the cell below to install it."
   ]
  },
  {
   "cell_type": "code",
   "execution_count": null,
   "id": "4493a988-9e7c-4845-8023-80747da24809",
   "metadata": {},
   "outputs": [],
   "source": [
    "%pip install qiskit"
   ]
  },
  {
   "cell_type": "markdown",
   "id": "ff2a3b50-8caa-4e1d-a1ff-b4871a3e70ff",
   "metadata": {},
   "source": [
    "### 2.1 One Qubit\n",
    "We initialize a Quantum Circuit with $1$ qubit and then apply a $H$ gate on the qubit."
   ]
  },
  {
   "cell_type": "code",
   "execution_count": 1,
   "id": "048e0fe1-0bd9-4b8e-84fc-00eeb826927f",
   "metadata": {},
   "outputs": [
    {
     "data": {
      "image/png": "[encoded data removed]",
      "text/plain": [
       "<Figure size 185.453x117.056 with 1 Axes>"
      ]
     },
     "execution_count": 1,
     "metadata": {},
     "output_type": "execute_result"
    }
   ],
   "source": [
    "from qiskit import QuantumCircuit\n",
    "# Initialize 1 qubit circuit\n",
    "circuit = QuantumCircuit(1)\n",
    "# Apply Hadamard on first qubit\n",
    "circuit.h(0)\n",
    "\n",
    "circuit.draw(output=\"mpl\")"
   ]
  },
  {
   "cell_type": "markdown",
   "id": "d269ad8b-5043-477c-9c77-3f5bcd8b6d25",
   "metadata": {},
   "source": [
    "### 2.2 Two Qubits\n",
    "For two qubits, we initialize a Quantum Circuit with $2$ qubits and apply $H$ gates to each qubit."
   ]
  },
  {
   "cell_type": "code",
   "execution_count": 2,
   "id": "58aab69b-4f29-4654-8275-14cb2911c3fd",
   "metadata": {},
   "outputs": [
    {
     "data": {
      "image/png": "[encoded data removed]",
      "text/plain": [
       "<Figure size 203.683x200.667 with 1 Axes>"
      ]
     },
     "execution_count": 2,
     "metadata": {},
     "output_type": "execute_result"
    }
   ],
   "source": [
    "# Initialize 2 qubit circuit\n",
    "circuit = QuantumCircuit(2)\n",
    "# Apply Hadamard on first qubit and second qubit\n",
    "circuit.h(0)\n",
    "circuit.h(1)\n",
    "\n",
    "circuit.draw(output=\"mpl\")"
   ]
  }
 ],
 "metadata": {
  "kernelspec": {
   "display_name": "Python 3 (ipykernel)",
   "language": "python",
   "name": "python3"
  },
  "language_info": {
   "codemirror_mode": {
    "name": "ipython",
    "version": 3
   },
   "file_extension": ".py",
   "mimetype": "text/x-python",
   "name": "python",
   "nbconvert_exporter": "python",
   "pygments_lexer": "ipython3",
   "version": "3.11.9"
  }
 },
 "nbformat": 4,
 "nbformat_minor": 5
}
